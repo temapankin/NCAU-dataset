{
 "cells": [
  {
   "cell_type": "markdown",
   "metadata": {},
   "source": [
    "# Merge 2011 - 2017 data \n",
    "This notebook is part of the workflow of creating NCAU dataset based on the Summary Report Q2024."
   ]
  },
  {
   "cell_type": "code",
   "execution_count": null,
   "metadata": {},
   "outputs": [],
   "source": [
    "\n",
    "import pandas as pd\n",
    "import numpy as np\n",
    "\n",
    "# Path to your Excel file\n",
    "file_path = 'CRS200612 copy.xlsx'"
   ]
  },
  {
   "cell_type": "code",
   "execution_count": 9,
   "metadata": {},
   "outputs": [],
   "source": [
    "df1 = pd.read_excel(file_path, sheet_name='Page_1')\n",
    "df2 = pd.read_excel(file_path, sheet_name='Sheet2')\n",
    "df3 = pd.read_excel(file_path, sheet_name='Sheet3')\n",
    "df4 = pd.read_excel(file_path, sheet_name='Sheet1')"
   ]
  },
  {
   "cell_type": "code",
   "execution_count": 10,
   "metadata": {},
   "outputs": [],
   "source": [
    "for df in [df1, df2, df3, df4]:\n",
    "    df.rename(columns={'Unnamed: 0': 'Name'}, inplace=True)\n",
    "    df['Name'] = df['Name'].str.replace(r'\\d+', '', regex=True)\n"
   ]
  },
  {
   "cell_type": "code",
   "execution_count": 11,
   "metadata": {},
   "outputs": [],
   "source": [
    "# Keep original row order of df4\n",
    "df4 = df4.copy()\n",
    "df4['__order'] = range(len(df4))\n",
    "\n",
    "# Merge others into df4\n",
    "final_df = df4.copy()\n",
    "for df in [df1, df2, df3]:\n",
    "    df = df.loc[:, ~df.columns.duplicated()]\n",
    "    final_df = pd.merge(final_df, df, on='Name', how='outer')\n",
    "\n",
    "# Sort back to original order and drop the helper column\n",
    "final_df = final_df.sort_values('__order').drop(columns='__order')"
   ]
  },
  {
   "cell_type": "code",
   "execution_count": 12,
   "metadata": {},
   "outputs": [],
   "source": [
    "final_df.to_excel('output.xlsx', index=False)"
   ]
  }
 ],
 "metadata": {
  "kernelspec": {
   "display_name": "default_env",
   "language": "python",
   "name": "python3"
  },
  "language_info": {
   "codemirror_mode": {
    "name": "ipython",
    "version": 3
   },
   "file_extension": ".py",
   "mimetype": "text/x-python",
   "name": "python",
   "nbconvert_exporter": "python",
   "pygments_lexer": "ipython3",
   "version": "3.12.3"
  }
 },
 "nbformat": 4,
 "nbformat_minor": 2
}
