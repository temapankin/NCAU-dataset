{
 "cells": [
  {
   "cell_type": "markdown",
   "metadata": {},
   "source": [
    "# 2011 - 2017 NCAU PDF Extraction\n",
    "This notebook is part of the workflow of creating NCAU dataset based on the Summary Report Data, covering 2004 – 2024."
   ]
  },
  {
   "cell_type": "code",
   "execution_count": null,
   "metadata": {},
   "outputs": [],
   "source": [
    "import PyPDF2\n",
    "import pdfplumber\n",
    "import pandas as pd\n",
    "import os\n",
    "\n",
    "def pdf_table_to_excel(pdf_path, excel_path):\n",
    "    \"\"\"\n",
    "    Extract tables from a PDF file and save them to an Excel file for 2007-2011 data \"\n",
    "    \"\"\"\n",
    "    tables = []\n",
    "    \n",
    "    with pdfplumber.open(pdf_path) as pdf:\n",
    "        for page in pdf.pages:\n",
    "            extracted_table = page.extract_table()\n",
    "            if extracted_table:\n",
    "                df = pd.DataFrame(extracted_table)\n",
    "                tables.append(df)\n",
    "\n",
    "    if tables:\n",
    "        with pd.ExcelWriter(excel_path) as writer:\n",
    "            for i, df in enumerate(tables):\n",
    "                df.to_excel(writer, sheet_name=f'Page_{i+1}', index=False, header=False)\n",
    "        print(f\"Excel file saved at: {excel_path}\")\n",
    "    else:\n",
    "        print(\"No tables found in the PDF.\")\n"
   ]
  },
  {
   "cell_type": "code",
   "execution_count": null,
   "metadata": {},
   "outputs": [
    {
     "name": "stdout",
     "output_type": "stream",
     "text": [
      "Excel file saved at: Data/pdf_summary/2015-2017/tables/paca-facts-2016-12 (dragged).xlsx\n",
      "Processed paca-facts-2016-12 (dragged).pdf\n",
      "Excel file saved at: Data/pdf_summary/2015-2017/tables/paca-facts-2017-q4 (dragged).xlsx\n",
      "Processed paca-facts-2017-q4 (dragged).pdf\n",
      "Excel file saved at: Data/pdf_summary/2015-2017/tables/PACA-Facts-2015-12 (dragged).xlsx\n",
      "Processed PACA-Facts-2015-12 (dragged).pdf\n"
     ]
    }
   ],
   "source": [
    "input_dir = 'Data/pdf_summary/2011-2017'\n",
    "\n",
    "output_dir = 'Data/pdf_summary/2011-2017_tables'\n",
    "\n",
    "if not os.path.exists(output_dir):\n",
    "    os.makedirs(output_dir)\n",
    "\n",
    "for filename in os.listdir(input_dir):\n",
    "        if filename.lower().endswith(\".pdf\"):\n",
    "            input_pdf_path = os.path.join(input_dir, filename)\n",
    "            output_excel_path = os.path.join(output_dir, f\"{os.path.splitext(filename)[0]}.xlsx\")\n",
    "\n",
    "            pdf_table_to_excel(input_pdf_path, output_excel_path)\n",
    "            print(f'Processed {filename}')"
   ]
  }
 ],
 "metadata": {
  "kernelspec": {
   "display_name": "default_env",
   "language": "python",
   "name": "python3"
  },
  "language_info": {
   "codemirror_mode": {
    "name": "ipython",
    "version": 3
   },
   "file_extension": ".py",
   "mimetype": "text/x-python",
   "name": "python",
   "nbconvert_exporter": "python",
   "pygments_lexer": "ipython3",
   "version": "3.12.3"
  }
 },
 "nbformat": 4,
 "nbformat_minor": 2
}
