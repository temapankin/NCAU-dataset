{
 "cells": [
  {
   "cell_type": "markdown",
   "metadata": {},
   "source": [
    "## Geocoding CUs locations"
   ]
  },
  {
   "cell_type": "markdown",
   "metadata": {},
   "source": [
    "This notebook demonstrates a precise approach to geocoding locations by processing each address individually from a CSV file. By geocoding row-by-row rather than using a batch process, each lookup is handled separately, which can result in more accurate placements and better error handling. This method minimizes potential inaccuracies that might occur when geocoding in bulk, ensuring higher precision for each geocoded location."
   ]
  },
  {
   "cell_type": "code",
   "execution_count": null,
   "metadata": {},
   "outputs": [],
   "source": [
    "import pandas as pd\n",
    "from arcgis.gis import GIS\n",
    "from arcgis.geocoding import geocode\n",
    "import arcgis\n",
    "\n",
    "# 1. Read the entire CSV up front\n",
    "df = pd.read_csv(r\"C:\\Users\\sasha\\Downloads\\locations_for_geocoding.csv\")\n",
    "\n",
    "# 2. Make sure you have columns to hold the results\n",
    "df['latitude'] = pd.NA\n",
    "df['longitude'] = pd.NA\n"
   ]
  },
  {
   "cell_type": "code",
   "execution_count": null,
   "metadata": {},
   "outputs": [],
   "source": [
    "# 3. Connect to ArcGIS (will prompt you for credentials if needed)\n",
    "gis = GIS(\"home\")  \n",
    "arcgis.env.active_gis = gis"
   ]
  },
  {
   "cell_type": "code",
   "execution_count": null,
   "metadata": {},
   "outputs": [],
   "source": [
    "# Loop through every row and geocode\n",
    "for idx, row in df.iterrows():\n",
    "    address = row['FullPhysicalAddress']   # change 'address' to whatever your column is called\n",
    "    try:\n",
    "        # perform the geocode lookup\n",
    "        results = geocode(address)\n",
    "        if results:\n",
    "            loc = results[0]['location']\n",
    "            df.at[idx, 'latitude'] = loc['y']\n",
    "            df.at[idx, 'longitude'] = loc['x']\n",
    "        else:\n",
    "            print(f\"No match for: {address}\")\n",
    "    except Exception as e:\n",
    "        print(f\"Error geocoding {address!r}: {e}\")\n"
   ]
  },
  {
   "cell_type": "code",
   "execution_count": null,
   "metadata": {},
   "outputs": [],
   "source": [
    "df.to_csv(r\"locations_geocoded_full.csv\", index=False)"
   ]
  }
 ],
 "metadata": {
  "kernelspec": {
   "display_name": "default_env",
   "language": "python",
   "name": "python3"
  },
  "language_info": {
   "codemirror_mode": {
    "name": "ipython",
    "version": 3
   },
   "file_extension": ".py",
   "mimetype": "text/x-python",
   "name": "python",
   "nbconvert_exporter": "python",
   "pygments_lexer": "ipython3",
   "version": "3.12.3"
  }
 },
 "nbformat": 4,
 "nbformat_minor": 4
}
